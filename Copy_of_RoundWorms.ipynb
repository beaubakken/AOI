{
  "nbformat": 4,
  "nbformat_minor": 0,
  "metadata": {
    "colab": {
      "name": "Copy of RoundWorms.ipynb",
      "provenance": [],
      "mount_file_id": "19kLlL-9DZh_Cj_VWLsES4MXCYUPM-Np6",
      "authorship_tag": "ABX9TyMCR6AEjA98JVASpg8FeHxP",
      "include_colab_link": true
    },
    "kernelspec": {
      "name": "python3",
      "display_name": "Python 3"
    },
    "accelerator": "GPU",
    "widgets": {
      "application/vnd.jupyter.widget-state+json": {
        "bcad62ce92ba48cb9fef00de30217eff": {
          "model_module": "@jupyter-widgets/controls",
          "model_name": "HBoxModel",
          "state": {
            "_view_name": "HBoxView",
            "_dom_classes": [],
            "_model_name": "HBoxModel",
            "_view_module": "@jupyter-widgets/controls",
            "_model_module_version": "1.5.0",
            "_view_count": null,
            "_view_module_version": "1.5.0",
            "box_style": "",
            "layout": "IPY_MODEL_09bcc815c3104961bd2405cd806b6d0d",
            "_model_module": "@jupyter-widgets/controls",
            "children": [
              "IPY_MODEL_06b11bf7dbbb41ebbc14c9a055675545",
              "IPY_MODEL_e3675219a82143389a9d0e7d47991f34"
            ]
          }
        },
        "09bcc815c3104961bd2405cd806b6d0d": {
          "model_module": "@jupyter-widgets/base",
          "model_name": "LayoutModel",
          "state": {
            "_view_name": "LayoutView",
            "grid_template_rows": null,
            "right": null,
            "justify_content": null,
            "_view_module": "@jupyter-widgets/base",
            "overflow": null,
            "_model_module_version": "1.2.0",
            "_view_count": null,
            "flex_flow": null,
            "width": null,
            "min_width": null,
            "border": null,
            "align_items": null,
            "bottom": null,
            "_model_module": "@jupyter-widgets/base",
            "top": null,
            "grid_column": null,
            "overflow_y": null,
            "overflow_x": null,
            "grid_auto_flow": null,
            "grid_area": null,
            "grid_template_columns": null,
            "flex": null,
            "_model_name": "LayoutModel",
            "justify_items": null,
            "grid_row": null,
            "max_height": null,
            "align_content": null,
            "visibility": null,
            "align_self": null,
            "height": null,
            "min_height": null,
            "padding": null,
            "grid_auto_rows": null,
            "grid_gap": null,
            "max_width": null,
            "order": null,
            "_view_module_version": "1.2.0",
            "grid_template_areas": null,
            "object_position": null,
            "object_fit": null,
            "grid_auto_columns": null,
            "margin": null,
            "display": null,
            "left": null
          }
        },
        "06b11bf7dbbb41ebbc14c9a055675545": {
          "model_module": "@jupyter-widgets/controls",
          "model_name": "FloatProgressModel",
          "state": {
            "_view_name": "ProgressView",
            "style": "IPY_MODEL_3bfd763fbd434b0da26cfd421f46fdb0",
            "_dom_classes": [],
            "description": "100%",
            "_model_name": "FloatProgressModel",
            "bar_style": "success",
            "max": 244418560,
            "_view_module": "@jupyter-widgets/controls",
            "_model_module_version": "1.5.0",
            "value": 244418560,
            "_view_count": null,
            "_view_module_version": "1.5.0",
            "orientation": "horizontal",
            "min": 0,
            "description_tooltip": null,
            "_model_module": "@jupyter-widgets/controls",
            "layout": "IPY_MODEL_89a40c3189ce4151b5c3522afd078f4d"
          }
        },
        "e3675219a82143389a9d0e7d47991f34": {
          "model_module": "@jupyter-widgets/controls",
          "model_name": "HTMLModel",
          "state": {
            "_view_name": "HTMLView",
            "style": "IPY_MODEL_164d9c608883477e8d032f9bd35f40f0",
            "_dom_classes": [],
            "description": "",
            "_model_name": "HTMLModel",
            "placeholder": "​",
            "_view_module": "@jupyter-widgets/controls",
            "_model_module_version": "1.5.0",
            "value": " 233M/233M [03:19&lt;00:00, 1.22MB/s]",
            "_view_count": null,
            "_view_module_version": "1.5.0",
            "description_tooltip": null,
            "_model_module": "@jupyter-widgets/controls",
            "layout": "IPY_MODEL_335c33ba11f34dedbff90563f3c870e7"
          }
        },
        "3bfd763fbd434b0da26cfd421f46fdb0": {
          "model_module": "@jupyter-widgets/controls",
          "model_name": "ProgressStyleModel",
          "state": {
            "_view_name": "StyleView",
            "_model_name": "ProgressStyleModel",
            "description_width": "initial",
            "_view_module": "@jupyter-widgets/base",
            "_model_module_version": "1.5.0",
            "_view_count": null,
            "_view_module_version": "1.2.0",
            "bar_color": null,
            "_model_module": "@jupyter-widgets/controls"
          }
        },
        "89a40c3189ce4151b5c3522afd078f4d": {
          "model_module": "@jupyter-widgets/base",
          "model_name": "LayoutModel",
          "state": {
            "_view_name": "LayoutView",
            "grid_template_rows": null,
            "right": null,
            "justify_content": null,
            "_view_module": "@jupyter-widgets/base",
            "overflow": null,
            "_model_module_version": "1.2.0",
            "_view_count": null,
            "flex_flow": null,
            "width": null,
            "min_width": null,
            "border": null,
            "align_items": null,
            "bottom": null,
            "_model_module": "@jupyter-widgets/base",
            "top": null,
            "grid_column": null,
            "overflow_y": null,
            "overflow_x": null,
            "grid_auto_flow": null,
            "grid_area": null,
            "grid_template_columns": null,
            "flex": null,
            "_model_name": "LayoutModel",
            "justify_items": null,
            "grid_row": null,
            "max_height": null,
            "align_content": null,
            "visibility": null,
            "align_self": null,
            "height": null,
            "min_height": null,
            "padding": null,
            "grid_auto_rows": null,
            "grid_gap": null,
            "max_width": null,
            "order": null,
            "_view_module_version": "1.2.0",
            "grid_template_areas": null,
            "object_position": null,
            "object_fit": null,
            "grid_auto_columns": null,
            "margin": null,
            "display": null,
            "left": null
          }
        },
        "164d9c608883477e8d032f9bd35f40f0": {
          "model_module": "@jupyter-widgets/controls",
          "model_name": "DescriptionStyleModel",
          "state": {
            "_view_name": "StyleView",
            "_model_name": "DescriptionStyleModel",
            "description_width": "",
            "_view_module": "@jupyter-widgets/base",
            "_model_module_version": "1.5.0",
            "_view_count": null,
            "_view_module_version": "1.2.0",
            "_model_module": "@jupyter-widgets/controls"
          }
        },
        "335c33ba11f34dedbff90563f3c870e7": {
          "model_module": "@jupyter-widgets/base",
          "model_name": "LayoutModel",
          "state": {
            "_view_name": "LayoutView",
            "grid_template_rows": null,
            "right": null,
            "justify_content": null,
            "_view_module": "@jupyter-widgets/base",
            "overflow": null,
            "_model_module_version": "1.2.0",
            "_view_count": null,
            "flex_flow": null,
            "width": null,
            "min_width": null,
            "border": null,
            "align_items": null,
            "bottom": null,
            "_model_module": "@jupyter-widgets/base",
            "top": null,
            "grid_column": null,
            "overflow_y": null,
            "overflow_x": null,
            "grid_auto_flow": null,
            "grid_area": null,
            "grid_template_columns": null,
            "flex": null,
            "_model_name": "LayoutModel",
            "justify_items": null,
            "grid_row": null,
            "max_height": null,
            "align_content": null,
            "visibility": null,
            "align_self": null,
            "height": null,
            "min_height": null,
            "padding": null,
            "grid_auto_rows": null,
            "grid_gap": null,
            "max_width": null,
            "order": null,
            "_view_module_version": "1.2.0",
            "grid_template_areas": null,
            "object_position": null,
            "object_fit": null,
            "grid_auto_columns": null,
            "margin": null,
            "display": null,
            "left": null
          }
        }
      }
    }
  },
  "cells": [
    {
      "cell_type": "markdown",
      "metadata": {
        "id": "view-in-github",
        "colab_type": "text"
      },
      "source": [
        "<a href=\"https://colab.research.google.com/github/beaubakken/AOI/blob/master/Copy_of_RoundWorms.ipynb\" target=\"_parent\"><img src=\"https://colab.research.google.com/assets/colab-badge.svg\" alt=\"Open In Colab\"/></a>"
      ]
    },
    {
      "cell_type": "code",
      "metadata": {
        "id": "p0N0U-gn61jr",
        "colab_type": "code",
        "colab": {}
      },
      "source": [
        "from torchvision import models, transforms, datasets\n",
        "import torch.optim as optim\n",
        "import torch\n",
        "import torch.nn as nn\n",
        "import os\n",
        "from __future__ import print_function\n",
        "from __future__ import division\n",
        "import numpy as np\n",
        "import torchvision\n",
        "import matplotlib.pyplot as plt\n",
        "import time\n",
        "import copy"
      ],
      "execution_count": null,
      "outputs": []
    },
    {
      "cell_type": "code",
      "metadata": {
        "id": "fTLgoClb_Tzu",
        "colab_type": "code",
        "colab": {
          "base_uri": "https://localhost:8080/",
          "height": 84,
          "referenced_widgets": [
            "bcad62ce92ba48cb9fef00de30217eff",
            "09bcc815c3104961bd2405cd806b6d0d",
            "06b11bf7dbbb41ebbc14c9a055675545",
            "e3675219a82143389a9d0e7d47991f34",
            "3bfd763fbd434b0da26cfd421f46fdb0",
            "89a40c3189ce4151b5c3522afd078f4d",
            "164d9c608883477e8d032f9bd35f40f0",
            "335c33ba11f34dedbff90563f3c870e7"
          ]
        },
        "outputId": "cbe3ee26-b242-4eed-b394-e807a92992cd"
      },
      "source": [
        "alexnet = models.alexnet(pretrained=True)"
      ],
      "execution_count": null,
      "outputs": [
        {
          "output_type": "stream",
          "text": [
            "Downloading: \"https://download.pytorch.org/models/alexnet-owt-4df8aa71.pth\" to /root/.cache/torch/checkpoints/alexnet-owt-4df8aa71.pth\n"
          ],
          "name": "stderr"
        },
        {
          "output_type": "display_data",
          "data": {
            "application/vnd.jupyter.widget-view+json": {
              "model_id": "bcad62ce92ba48cb9fef00de30217eff",
              "version_minor": 0,
              "version_major": 2
            },
            "text/plain": [
              "HBox(children=(FloatProgress(value=0.0, max=244418560.0), HTML(value='')))"
            ]
          },
          "metadata": {
            "tags": []
          }
        },
        {
          "output_type": "stream",
          "text": [
            "\n"
          ],
          "name": "stdout"
        }
      ]
    },
    {
      "cell_type": "code",
      "metadata": {
        "id": "OKvZBWN2_Ugb",
        "colab_type": "code",
        "colab": {}
      },
      "source": [
        "for param in alexnet.parameters():\n",
        "    param.requires_grad = False\n",
        "# Makes sure we won't update the parameters of the feature extractor\n",
        "# Parameters of newly constructed modules have requires_grad=True by default"
      ],
      "execution_count": null,
      "outputs": []
    },
    {
      "cell_type": "code",
      "metadata": {
        "id": "IfOlz_oTYJz4",
        "colab_type": "code",
        "colab": {}
      },
      "source": [
        "alexnet.classifier[6] = nn.Linear(4096, 2)\n",
        "# replace last layer to only predict 2 classes\n",
        "# requires_grad=True by default"
      ],
      "execution_count": null,
      "outputs": []
    },
    {
      "cell_type": "code",
      "metadata": {
        "id": "5eLMLVyMcpAB",
        "colab_type": "code",
        "colab": {
          "base_uri": "https://localhost:8080/",
          "height": 70
        },
        "outputId": "4cb10814-d192-4f34-e888-b0ecf044b236"
      },
      "source": [
        "params_to_update = alexnet.parameters()\n",
        "print(\"Params to learn:\")\n",
        "params_to_update = []\n",
        "for name,param in alexnet.named_parameters():\n",
        "    if param.requires_grad == True:\n",
        "        params_to_update.append(param)\n",
        "        print(\"\\t\",name)"
      ],
      "execution_count": null,
      "outputs": [
        {
          "output_type": "stream",
          "text": [
            "Params to learn:\n",
            "\t classifier.6.weight\n",
            "\t classifier.6.bias\n"
          ],
          "name": "stdout"
        }
      ]
    },
    {
      "cell_type": "code",
      "metadata": {
        "id": "O1ieoA_BfJlc",
        "colab_type": "code",
        "colab": {}
      },
      "source": [
        "optimizer = optim.Adam(params_to_update, lr=0.0001)\n",
        "criterion = nn.CrossEntropyLoss()"
      ],
      "execution_count": null,
      "outputs": []
    },
    {
      "cell_type": "code",
      "metadata": {
        "id": "DId_HoavcpCT",
        "colab_type": "code",
        "colab": {}
      },
      "source": [
        "data_transforms = transforms.Compose([\n",
        "        transforms.Resize(224),\n",
        "        transforms.CenterCrop(224),\n",
        "        transforms.ToTensor(),\n",
        "        transforms.Normalize([0.485, 0.456, 0.406], [0.229, 0.224, 0.225])])"
      ],
      "execution_count": null,
      "outputs": []
    },
    {
      "cell_type": "code",
      "metadata": {
        "id": "vwNLBec8hcag",
        "colab_type": "code",
        "colab": {
          "base_uri": "https://localhost:8080/",
          "height": 34
        },
        "outputId": "8af65326-a2cd-40a2-95aa-1f8a89e99cd8"
      },
      "source": [
        "data_dir = 'drive/My Drive/Summer Exploration/Hardware Security/cracky'\n",
        "model = alexnet\n",
        "batch_size = 50 #50\n",
        "num_epochs = 25 #5\n",
        "feature_extract = True\n",
        "device = torch.device(\"cuda:0\" if torch.cuda.is_available() else \"cpu\")\n",
        "print(device)"
      ],
      "execution_count": null,
      "outputs": [
        {
          "output_type": "stream",
          "text": [
            "cuda:0\n"
          ],
          "name": "stdout"
        }
      ]
    },
    {
      "cell_type": "code",
      "metadata": {
        "id": "pR5x989PfJos",
        "colab_type": "code",
        "colab": {}
      },
      "source": [
        "# Create training and validation datasets\n",
        "image_datasets = {x: datasets.ImageFolder(os.path.join(data_dir, x), data_transforms) for x in ['train', 'val']}\n",
        "\n",
        "# Create training and validation dataloaders\n",
        "dataloaders_dict = {x: torch.utils.data.DataLoader(image_datasets[x], batch_size=batch_size, shuffle=True, num_workers=4) for x in ['train', 'val']}"
      ],
      "execution_count": null,
      "outputs": []
    },
    {
      "cell_type": "code",
      "metadata": {
        "id": "HRr0G5slmjcL",
        "colab_type": "code",
        "colab": {}
      },
      "source": [
        "def train_model(model, dataloaders, criterion, optimizer, num_epochs=25):  \n",
        "    since = time.time()\n",
        "\n",
        "    val_acc_history = []\n",
        "\n",
        "    best_model_wts = copy.deepcopy(model.state_dict())\n",
        "    best_acc = 0.0\n",
        "\n",
        "    loss_log_train = []\n",
        "    loss_log_val =[]\n",
        "\n",
        "    for epoch in range(num_epochs):\n",
        "        print('Epoch {}/{}'.format(epoch, num_epochs - 1))\n",
        "        print('-' * 10)\n",
        "\n",
        "        # Each epoch has a training and validation phase\n",
        "        for phase in ['train', 'val']:\n",
        "            if phase == 'train':\n",
        "                model.train()  # Set model to training mode\n",
        "            else:\n",
        "                model.eval()   # Set model to evaluate mode\n",
        "\n",
        "            running_loss = 0.0\n",
        "            running_corrects = 0\n",
        "\n",
        "            # Iterate over data.\n",
        "            for inputs, labels in dataloaders[phase]:\n",
        "                inputs = inputs.to(device)\n",
        "                labels = labels.to(device)\n",
        "\n",
        "                # zero the parameter gradients\n",
        "                optimizer.zero_grad()\n",
        "\n",
        "                # forward\n",
        "                # track history if only in train\n",
        "                with torch.set_grad_enabled(phase == 'train'):\n",
        "                    # Get model outputs and calculate loss\n",
        "                    # Special case for inception because in training it has an auxiliary output. In train\n",
        "                    #   mode we calculate the loss by summing the final output and the auxiliary output\n",
        "                    #   but in testing we only consider the final output.\n",
        "                   \n",
        "                    outputs = model(inputs)\n",
        "                    loss = criterion(outputs, labels)\n",
        "\n",
        "                    _, preds = torch.max(outputs, 1)\n",
        "\n",
        "                    # backward + optimize only if in training phase\n",
        "                    if phase == 'train':\n",
        "                        loss.backward()\n",
        "                        optimizer.step()\n",
        "\n",
        "                        \n",
        "\n",
        "                # statistics\n",
        "                running_loss += loss.item() * inputs.size(0)\n",
        "                running_corrects += torch.sum(preds == labels.data)\n",
        "\n",
        "            epoch_loss = running_loss / len(dataloaders[phase].dataset)\n",
        "            epoch_acc = running_corrects.double() / len(dataloaders[phase].dataset)\n",
        "\n",
        "            if phase == 'train':\n",
        "                loss_log_train.append(epoch_loss)\n",
        "            elif phase == 'val':\n",
        "                loss_log_val.append(epoch_loss)\n",
        "\n",
        "            print('{} Loss: {:.4f} Acc: {:.4f}'.format(phase, epoch_loss, epoch_acc))\n",
        "\n",
        "            \n",
        "            if phase == 'val':\n",
        "                val_acc_history.append(epoch_acc)\n",
        "                best_acc = epoch_acc\n",
        "\n",
        "        print()\n",
        "\n",
        "    time_elapsed = time.time() - since\n",
        "    print('Training complete in {:.0f}m {:.0f}s'.format(time_elapsed // 60, time_elapsed % 60))\n",
        "    print('Best val Acc: {:4f}'.format(best_acc))\n",
        "\n",
        "    # load best model weights\n",
        "    model.load_state_dict(best_model_wts)\n",
        "    return model, val_acc_history, loss_log_train, loss_log_val"
      ],
      "execution_count": null,
      "outputs": []
    },
    {
      "cell_type": "code",
      "metadata": {
        "id": "4scjR_v4oQ9V",
        "colab_type": "code",
        "colab": {
          "base_uri": "https://localhost:8080/",
          "height": 1000
        },
        "outputId": "e91d8617-5162-449a-8b37-8200ce68c118"
      },
      "source": [
        "model = model.to(device)\n",
        "model_ft, hist, loss_log_train, loss_log_val = train_model(model, dataloaders_dict, criterion, optimizer, num_epochs=num_epochs)"
      ],
      "execution_count": null,
      "outputs": [
        {
          "output_type": "stream",
          "text": [
            "Epoch 0/24\n",
            "----------\n",
            "train Loss: 0.4946 Acc: 0.7734\n",
            "val Loss: 0.3270 Acc: 0.9107\n",
            "\n",
            "Epoch 1/24\n",
            "----------\n",
            "train Loss: 0.2669 Acc: 0.9202\n",
            "val Loss: 0.2513 Acc: 0.9085\n",
            "\n",
            "Epoch 2/24\n",
            "----------\n",
            "train Loss: 0.2189 Acc: 0.9319\n",
            "val Loss: 0.2197 Acc: 0.9263\n",
            "\n",
            "Epoch 3/24\n",
            "----------\n",
            "train Loss: 0.1900 Acc: 0.9375\n",
            "val Loss: 0.1950 Acc: 0.9464\n",
            "\n",
            "Epoch 4/24\n",
            "----------\n",
            "train Loss: 0.1721 Acc: 0.9515\n",
            "val Loss: 0.1835 Acc: 0.9464\n",
            "\n",
            "Epoch 5/24\n",
            "----------\n",
            "train Loss: 0.1567 Acc: 0.9515\n",
            "val Loss: 0.1717 Acc: 0.9487\n",
            "\n",
            "Epoch 6/24\n",
            "----------\n",
            "train Loss: 0.1462 Acc: 0.9559\n",
            "val Loss: 0.1668 Acc: 0.9487\n",
            "\n",
            "Epoch 7/24\n",
            "----------\n",
            "train Loss: 0.1360 Acc: 0.9604\n",
            "val Loss: 0.1589 Acc: 0.9487\n",
            "\n",
            "Epoch 8/24\n",
            "----------\n",
            "train Loss: 0.1264 Acc: 0.9621\n",
            "val Loss: 0.1521 Acc: 0.9487\n",
            "\n",
            "Epoch 9/24\n",
            "----------\n",
            "train Loss: 0.1219 Acc: 0.9648\n",
            "val Loss: 0.1485 Acc: 0.9487\n",
            "\n",
            "Epoch 10/24\n",
            "----------\n",
            "train Loss: 0.1174 Acc: 0.9665\n",
            "val Loss: 0.1448 Acc: 0.9509\n",
            "\n",
            "Epoch 11/24\n",
            "----------\n",
            "train Loss: 0.1157 Acc: 0.9609\n",
            "val Loss: 0.1407 Acc: 0.9509\n",
            "\n",
            "Epoch 12/24\n",
            "----------\n",
            "train Loss: 0.1112 Acc: 0.9654\n",
            "val Loss: 0.1399 Acc: 0.9509\n",
            "\n",
            "Epoch 13/24\n",
            "----------\n",
            "train Loss: 0.1071 Acc: 0.9643\n",
            "val Loss: 0.1379 Acc: 0.9509\n",
            "\n",
            "Epoch 14/24\n",
            "----------\n",
            "train Loss: 0.1073 Acc: 0.9643\n",
            "val Loss: 0.1345 Acc: 0.9509\n",
            "\n",
            "Epoch 15/24\n",
            "----------\n",
            "train Loss: 0.1016 Acc: 0.9654\n",
            "val Loss: 0.1324 Acc: 0.9509\n",
            "\n",
            "Epoch 16/24\n",
            "----------\n",
            "train Loss: 0.0986 Acc: 0.9688\n",
            "val Loss: 0.1295 Acc: 0.9509\n",
            "\n",
            "Epoch 17/24\n",
            "----------\n",
            "train Loss: 0.0964 Acc: 0.9721\n",
            "val Loss: 0.1260 Acc: 0.9509\n",
            "\n",
            "Epoch 18/24\n",
            "----------\n",
            "train Loss: 0.0974 Acc: 0.9693\n",
            "val Loss: 0.1273 Acc: 0.9531\n",
            "\n",
            "Epoch 19/24\n",
            "----------\n",
            "train Loss: 0.0932 Acc: 0.9721\n",
            "val Loss: 0.1251 Acc: 0.9554\n",
            "\n",
            "Epoch 20/24\n",
            "----------\n",
            "train Loss: 0.0904 Acc: 0.9682\n",
            "val Loss: 0.1264 Acc: 0.9554\n",
            "\n",
            "Epoch 21/24\n",
            "----------\n",
            "train Loss: 0.0894 Acc: 0.9715\n",
            "val Loss: 0.1239 Acc: 0.9531\n",
            "\n",
            "Epoch 22/24\n",
            "----------\n",
            "train Loss: 0.0838 Acc: 0.9727\n",
            "val Loss: 0.1220 Acc: 0.9509\n",
            "\n",
            "Epoch 23/24\n",
            "----------\n",
            "train Loss: 0.0933 Acc: 0.9671\n",
            "val Loss: 0.1237 Acc: 0.9554\n",
            "\n",
            "Epoch 24/24\n",
            "----------\n",
            "train Loss: 0.0877 Acc: 0.9710\n",
            "val Loss: 0.1230 Acc: 0.9554\n",
            "\n",
            "Training complete in 4m 22s\n",
            "Best val Acc: 0.955357\n"
          ],
          "name": "stdout"
        }
      ]
    },
    {
      "cell_type": "code",
      "metadata": {
        "id": "QXWiVDU0nHQ6",
        "colab_type": "code",
        "colab": {
          "base_uri": "https://localhost:8080/",
          "height": 501
        },
        "outputId": "20365229-67d1-403a-d4c3-5fae6c0744a7"
      },
      "source": [
        "plt.figure(figsize=(10,8))\n",
        "plt.plot(loss_log_train,'-r')\n",
        "plt.plot(loss_log_val,'-b')"
      ],
      "execution_count": null,
      "outputs": [
        {
          "output_type": "execute_result",
          "data": {
            "text/plain": [
              "[<matplotlib.lines.Line2D at 0x7f11fa461a90>]"
            ]
          },
          "metadata": {
            "tags": []
          },
          "execution_count": 23
        },
        {
          "output_type": "display_data",
          "data": {
            "image/png": "[encoded data removed]",
            "text/plain": [
              "<Figure size 720x576 with 1 Axes>"
            ]
          },
          "metadata": {
            "tags": [],
            "needs_background": "light"
          }
        }
      ]
    }
  ]
}